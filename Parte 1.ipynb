{
 "cells": [
  {
   "cell_type": "code",
   "execution_count": 1,
   "metadata": {
    "ExecuteTime": {
     "end_time": "2018-07-13T16:29:52.825915Z",
     "start_time": "2018-07-13T16:29:52.547208Z"
    }
   },
   "outputs": [],
   "source": [
    "import pygmo as pg\n",
    "import numpy as np\n",
    "import pandas as pd\n",
    "from uda import ES, EP"
   ]
  },
  {
   "cell_type": "code",
   "execution_count": 2,
   "metadata": {
    "ExecuteTime": {
     "end_time": "2018-07-13T16:29:52.837293Z",
     "start_time": "2018-07-13T16:29:52.832630Z"
    }
   },
   "outputs": [],
   "source": [
    "%load_ext line_profiler"
   ]
  },
  {
   "cell_type": "code",
   "execution_count": 3,
   "metadata": {
    "ExecuteTime": {
     "end_time": "2018-07-13T16:29:53.088796Z",
     "start_time": "2018-07-13T16:29:53.085564Z"
    }
   },
   "outputs": [],
   "source": [
    "funcs = [1, 2, 6, 7, 9, 14]\n",
    "dimensions = [2, 10, 30]\n",
    "POP_SIZE = 20\n",
    "N_RUNS = 51"
   ]
  },
  {
   "cell_type": "markdown",
   "metadata": {},
   "source": [
    "## ES"
   ]
  },
  {
   "cell_type": "code",
   "execution_count": 17,
   "metadata": {
    "ExecuteTime": {
     "end_time": "2018-07-13T15:43:59.736238Z",
     "start_time": "2018-07-13T15:39:43.411933Z"
    }
   },
   "outputs": [],
   "source": [
    "results = []\n",
    "\n",
    "for nx in dimensions:\n",
    "    for func in funcs:\n",
    "        generations =  nx * 10000 // POP_SIZE - 1\n",
    "        \n",
    "        generations = 100000 // POP_SIZE - 1\n",
    "        N_RUNS = 8\n",
    "        \n",
    "        prob = pg.problem(pg.cec2014(prob_id=func, dim=nx))\n",
    "        algo = ES(memory=True)\n",
    "        archi = pg.archipelago(N_RUNS, algo=algo, prob=prob, pop_size=POP_SIZE)\n",
    "        archi.evolve(generations)\n",
    "        archi.wait()\n",
    "        \n",
    "        champions = [isl.get_population().champion_f[0] for isl in archi]\n",
    "        evals = [isl.get_population().problem.get_fevals() for isl in archi]\n",
    "        for run, properties in enumerate(zip(champions, evals)):\n",
    "            result = {\n",
    "                         \"function\": func,\n",
    "                         \"dimensions\": nx,\n",
    "                         \"run\": run,\n",
    "                         \"champion_f\": properties[0],\n",
    "                         \"evals\": properties[1]\n",
    "                     }\n",
    "            \n",
    "            results.append(result)\n",
    "\n",
    "results = pd.DataFrame(results, columns=[\"function\", \"dimensions\", \"run\", \"champion_f\", \"evals\"])\n",
    "results[\"error\"] = results[\"champion_f\"] - (results[\"function\"] * 100)\n",
    "results[\"success\"] = results[\"error\"] < 1e-8"
   ]
  },
  {
   "cell_type": "code",
   "execution_count": 20,
   "metadata": {
    "ExecuteTime": {
     "end_time": "2018-07-13T15:43:59.800492Z",
     "start_time": "2018-07-13T15:43:59.772729Z"
    },
    "scrolled": true
   },
   "outputs": [
    {
     "data": {
      "text/html": [
       "<div>\n",
       "<style scoped>\n",
       "    .dataframe tbody tr th:only-of-type {\n",
       "        vertical-align: middle;\n",
       "    }\n",
       "\n",
       "    .dataframe tbody tr th {\n",
       "        vertical-align: top;\n",
       "    }\n",
       "\n",
       "    .dataframe thead th {\n",
       "        text-align: right;\n",
       "    }\n",
       "</style>\n",
       "<table border=\"1\" class=\"dataframe\">\n",
       "  <thead>\n",
       "    <tr style=\"text-align: right;\">\n",
       "      <th></th>\n",
       "      <th></th>\n",
       "      <th>success</th>\n",
       "      <th>error</th>\n",
       "    </tr>\n",
       "    <tr>\n",
       "      <th>function</th>\n",
       "      <th>dimensions</th>\n",
       "      <th></th>\n",
       "      <th></th>\n",
       "    </tr>\n",
       "  </thead>\n",
       "  <tbody>\n",
       "    <tr>\n",
       "      <th>1</th>\n",
       "      <th>2</th>\n",
       "      <td>0.000</td>\n",
       "      <td>3184.604630</td>\n",
       "    </tr>\n",
       "    <tr>\n",
       "      <th>2</th>\n",
       "      <th>2</th>\n",
       "      <td>0.000</td>\n",
       "      <td>492.690871</td>\n",
       "    </tr>\n",
       "    <tr>\n",
       "      <th>6</th>\n",
       "      <th>2</th>\n",
       "      <td>0.000</td>\n",
       "      <td>0.000353</td>\n",
       "    </tr>\n",
       "    <tr>\n",
       "      <th>7</th>\n",
       "      <th>2</th>\n",
       "      <td>0.000</td>\n",
       "      <td>0.002692</td>\n",
       "    </tr>\n",
       "    <tr>\n",
       "      <th>9</th>\n",
       "      <th>2</th>\n",
       "      <td>0.375</td>\n",
       "      <td>1.368068</td>\n",
       "    </tr>\n",
       "    <tr>\n",
       "      <th>14</th>\n",
       "      <th>2</th>\n",
       "      <td>0.000</td>\n",
       "      <td>0.115004</td>\n",
       "    </tr>\n",
       "  </tbody>\n",
       "</table>\n",
       "</div>"
      ],
      "text/plain": [
       "                     success        error\n",
       "function dimensions                      \n",
       "1        2             0.000  3184.604630\n",
       "2        2             0.000   492.690871\n",
       "6        2             0.000     0.000353\n",
       "7        2             0.000     0.002692\n",
       "9        2             0.375     1.368068\n",
       "14       2             0.000     0.115004"
      ]
     },
     "execution_count": 20,
     "metadata": {},
     "output_type": "execute_result"
    }
   ],
   "source": [
    "pd.DataFrame(results.groupby([\"function\", \"dimensions\"]).mean().loc[:, [\"success\", \"error\"]])"
   ]
  },
  {
   "cell_type": "code",
   "execution_count": null,
   "metadata": {},
   "outputs": [],
   "source": []
  },
  {
   "cell_type": "code",
   "execution_count": null,
   "metadata": {},
   "outputs": [],
   "source": []
  },
  {
   "cell_type": "markdown",
   "metadata": {
    "ExecuteTime": {
     "start_time": "2018-07-13T16:28:23.174Z"
    }
   },
   "source": [
    "## CMAES"
   ]
  },
  {
   "cell_type": "code",
   "execution_count": 4,
   "metadata": {
    "ExecuteTime": {
     "end_time": "2018-07-13T16:41:49.634299Z",
     "start_time": "2018-07-13T16:29:59.971498Z"
    }
   },
   "outputs": [],
   "source": [
    "results = []\n",
    "\n",
    "for nx in dimensions:\n",
    "    for func in funcs:\n",
    "        generations = nx * 10000 // POP_SIZE - 1\n",
    "        \n",
    "        prob = pg.problem(pg.cec2014(prob_id=func, dim=nx))\n",
    "        algo = pg.algorithm(pg.xnes(gen=generations, ftol=1e-9, xtol=1e-9))\n",
    "        archi = pg.archipelago(N_RUNS, algo=algo, prob=prob, pop_size=POP_SIZE)\n",
    "        archi.evolve(1)\n",
    "        archi.wait()\n",
    "        \n",
    "        champions = [isl.get_population().champion_f[0] for isl in archi]\n",
    "        evals = [isl.get_population().problem.get_fevals() for isl in archi]\n",
    "        for run, properties in enumerate(zip(champions, evals)):\n",
    "            result = {\n",
    "                         \"function\": func,\n",
    "                         \"dimensions\": nx,\n",
    "                         \"run\": run,\n",
    "                         \"champion_f\": properties[0],\n",
    "                         \"evals\": properties[1]\n",
    "                     }\n",
    "            \n",
    "            results.append(result)\n",
    "\n",
    "results = pd.DataFrame(results, columns=[\"function\", \"dimensions\", \"run\", \"champion_f\", \"evals\"])\n",
    "results[\"error\"] = results[\"champion_f\"] - (results[\"function\"] * 100)\n",
    "results[\"success\"] = results[\"error\"] < 1e-8"
   ]
  },
  {
   "cell_type": "code",
   "execution_count": 5,
   "metadata": {
    "ExecuteTime": {
     "end_time": "2018-07-13T16:41:49.671905Z",
     "start_time": "2018-07-13T16:41:49.636085Z"
    }
   },
   "outputs": [
    {
     "data": {
      "text/html": [
       "<div>\n",
       "<style scoped>\n",
       "    .dataframe tbody tr th:only-of-type {\n",
       "        vertical-align: middle;\n",
       "    }\n",
       "\n",
       "    .dataframe tbody tr th {\n",
       "        vertical-align: top;\n",
       "    }\n",
       "\n",
       "    .dataframe thead th {\n",
       "        text-align: right;\n",
       "    }\n",
       "</style>\n",
       "<table border=\"1\" class=\"dataframe\">\n",
       "  <thead>\n",
       "    <tr style=\"text-align: right;\">\n",
       "      <th></th>\n",
       "      <th></th>\n",
       "      <th>success</th>\n",
       "      <th>error</th>\n",
       "    </tr>\n",
       "    <tr>\n",
       "      <th>function</th>\n",
       "      <th>dimensions</th>\n",
       "      <th></th>\n",
       "      <th></th>\n",
       "    </tr>\n",
       "  </thead>\n",
       "  <tbody>\n",
       "    <tr>\n",
       "      <th rowspan=\"3\" valign=\"top\">1</th>\n",
       "      <th>2</th>\n",
       "      <td>1.000000</td>\n",
       "      <td>2.416960e-12</td>\n",
       "    </tr>\n",
       "    <tr>\n",
       "      <th>10</th>\n",
       "      <td>1.000000</td>\n",
       "      <td>1.431418e-10</td>\n",
       "    </tr>\n",
       "    <tr>\n",
       "      <th>30</th>\n",
       "      <td>1.000000</td>\n",
       "      <td>5.540171e-10</td>\n",
       "    </tr>\n",
       "    <tr>\n",
       "      <th rowspan=\"3\" valign=\"top\">2</th>\n",
       "      <th>2</th>\n",
       "      <td>1.000000</td>\n",
       "      <td>2.716224e-12</td>\n",
       "    </tr>\n",
       "    <tr>\n",
       "      <th>10</th>\n",
       "      <td>1.000000</td>\n",
       "      <td>1.049937e-10</td>\n",
       "    </tr>\n",
       "    <tr>\n",
       "      <th>30</th>\n",
       "      <td>1.000000</td>\n",
       "      <td>5.704928e-10</td>\n",
       "    </tr>\n",
       "    <tr>\n",
       "      <th rowspan=\"3\" valign=\"top\">6</th>\n",
       "      <th>2</th>\n",
       "      <td>0.823529</td>\n",
       "      <td>2.430716e-02</td>\n",
       "    </tr>\n",
       "    <tr>\n",
       "      <th>10</th>\n",
       "      <td>0.000000</td>\n",
       "      <td>8.225581e+00</td>\n",
       "    </tr>\n",
       "    <tr>\n",
       "      <th>30</th>\n",
       "      <td>0.000000</td>\n",
       "      <td>3.944331e+01</td>\n",
       "    </tr>\n",
       "    <tr>\n",
       "      <th rowspan=\"3\" valign=\"top\">7</th>\n",
       "      <th>2</th>\n",
       "      <td>0.117647</td>\n",
       "      <td>1.161067e-02</td>\n",
       "    </tr>\n",
       "    <tr>\n",
       "      <th>10</th>\n",
       "      <td>0.568627</td>\n",
       "      <td>4.784322e-03</td>\n",
       "    </tr>\n",
       "    <tr>\n",
       "      <th>30</th>\n",
       "      <td>0.980392</td>\n",
       "      <td>1.450210e-04</td>\n",
       "    </tr>\n",
       "    <tr>\n",
       "      <th rowspan=\"3\" valign=\"top\">9</th>\n",
       "      <th>2</th>\n",
       "      <td>0.588235</td>\n",
       "      <td>3.451163e-01</td>\n",
       "    </tr>\n",
       "    <tr>\n",
       "      <th>10</th>\n",
       "      <td>0.019608</td>\n",
       "      <td>4.643142e+00</td>\n",
       "    </tr>\n",
       "    <tr>\n",
       "      <th>30</th>\n",
       "      <td>0.000000</td>\n",
       "      <td>2.579088e+01</td>\n",
       "    </tr>\n",
       "    <tr>\n",
       "      <th rowspan=\"3\" valign=\"top\">14</th>\n",
       "      <th>2</th>\n",
       "      <td>0.000000</td>\n",
       "      <td>2.570081e-01</td>\n",
       "    </tr>\n",
       "    <tr>\n",
       "      <th>10</th>\n",
       "      <td>0.000000</td>\n",
       "      <td>4.131354e-01</td>\n",
       "    </tr>\n",
       "    <tr>\n",
       "      <th>30</th>\n",
       "      <td>0.000000</td>\n",
       "      <td>3.708838e-01</td>\n",
       "    </tr>\n",
       "  </tbody>\n",
       "</table>\n",
       "</div>"
      ],
      "text/plain": [
       "                      success         error\n",
       "function dimensions                        \n",
       "1        2           1.000000  2.416960e-12\n",
       "         10          1.000000  1.431418e-10\n",
       "         30          1.000000  5.540171e-10\n",
       "2        2           1.000000  2.716224e-12\n",
       "         10          1.000000  1.049937e-10\n",
       "         30          1.000000  5.704928e-10\n",
       "6        2           0.823529  2.430716e-02\n",
       "         10          0.000000  8.225581e+00\n",
       "         30          0.000000  3.944331e+01\n",
       "7        2           0.117647  1.161067e-02\n",
       "         10          0.568627  4.784322e-03\n",
       "         30          0.980392  1.450210e-04\n",
       "9        2           0.588235  3.451163e-01\n",
       "         10          0.019608  4.643142e+00\n",
       "         30          0.000000  2.579088e+01\n",
       "14       2           0.000000  2.570081e-01\n",
       "         10          0.000000  4.131354e-01\n",
       "         30          0.000000  3.708838e-01"
      ]
     },
     "execution_count": 5,
     "metadata": {},
     "output_type": "execute_result"
    }
   ],
   "source": [
    "pd.DataFrame(results.groupby([\"function\", \"dimensions\"]).mean().loc[:, [\"success\", \"error\"]])"
   ]
  },
  {
   "cell_type": "markdown",
   "metadata": {},
   "source": [
    "## XNES"
   ]
  },
  {
   "cell_type": "code",
   "execution_count": 6,
   "metadata": {
    "ExecuteTime": {
     "end_time": "2018-07-13T16:52:55.824525Z",
     "start_time": "2018-07-13T16:41:49.674125Z"
    }
   },
   "outputs": [],
   "source": [
    "results = []\n",
    "\n",
    "for nx in dimensions:\n",
    "    for func in funcs:\n",
    "        generations = nx * 10000 // POP_SIZE - 1\n",
    "        \n",
    "        prob = pg.problem(pg.cec2014(prob_id=func, dim=nx))\n",
    "        algo = pg.algorithm(pg.xnes(gen=generations, ftol=1e-9, xtol=1e-9))\n",
    "        archi = pg.archipelago(N_RUNS, algo=algo, prob=prob, pop_size=POP_SIZE)\n",
    "        archi.evolve(1)\n",
    "        archi.wait()\n",
    "        \n",
    "        champions = [isl.get_population().champion_f[0] for isl in archi]\n",
    "        evals = [isl.get_population().problem.get_fevals() for isl in archi]\n",
    "        for run, properties in enumerate(zip(champions, evals)):\n",
    "            result = {\n",
    "                         \"function\": func,\n",
    "                         \"dimensions\": nx,\n",
    "                         \"run\": run,\n",
    "                         \"champion_f\": properties[0],\n",
    "                         \"evals\": properties[1]\n",
    "                     }\n",
    "            \n",
    "            results.append(result)\n",
    "\n",
    "results = pd.DataFrame(results, columns=[\"function\", \"dimensions\", \"run\", \"champion_f\", \"evals\"])\n",
    "results[\"error\"] = results[\"champion_f\"] - (results[\"function\"] * 100)\n",
    "results[\"success\"] = results[\"error\"] < 1e-8"
   ]
  },
  {
   "cell_type": "code",
   "execution_count": 7,
   "metadata": {
    "ExecuteTime": {
     "end_time": "2018-07-13T16:52:55.843347Z",
     "start_time": "2018-07-13T16:52:55.827063Z"
    }
   },
   "outputs": [
    {
     "data": {
      "text/html": [
       "<div>\n",
       "<style scoped>\n",
       "    .dataframe tbody tr th:only-of-type {\n",
       "        vertical-align: middle;\n",
       "    }\n",
       "\n",
       "    .dataframe tbody tr th {\n",
       "        vertical-align: top;\n",
       "    }\n",
       "\n",
       "    .dataframe thead th {\n",
       "        text-align: right;\n",
       "    }\n",
       "</style>\n",
       "<table border=\"1\" class=\"dataframe\">\n",
       "  <thead>\n",
       "    <tr style=\"text-align: right;\">\n",
       "      <th></th>\n",
       "      <th></th>\n",
       "      <th>success</th>\n",
       "      <th>error</th>\n",
       "    </tr>\n",
       "    <tr>\n",
       "      <th>function</th>\n",
       "      <th>dimensions</th>\n",
       "      <th></th>\n",
       "      <th></th>\n",
       "    </tr>\n",
       "  </thead>\n",
       "  <tbody>\n",
       "    <tr>\n",
       "      <th rowspan=\"3\" valign=\"top\">1</th>\n",
       "      <th>2</th>\n",
       "      <td>1.000000</td>\n",
       "      <td>3.387199e-12</td>\n",
       "    </tr>\n",
       "    <tr>\n",
       "      <th>10</th>\n",
       "      <td>1.000000</td>\n",
       "      <td>1.794931e-10</td>\n",
       "    </tr>\n",
       "    <tr>\n",
       "      <th>30</th>\n",
       "      <td>1.000000</td>\n",
       "      <td>6.350226e-10</td>\n",
       "    </tr>\n",
       "    <tr>\n",
       "      <th rowspan=\"3\" valign=\"top\">2</th>\n",
       "      <th>2</th>\n",
       "      <td>1.000000</td>\n",
       "      <td>3.722687e-12</td>\n",
       "    </tr>\n",
       "    <tr>\n",
       "      <th>10</th>\n",
       "      <td>1.000000</td>\n",
       "      <td>1.768315e-10</td>\n",
       "    </tr>\n",
       "    <tr>\n",
       "      <th>30</th>\n",
       "      <td>1.000000</td>\n",
       "      <td>5.491565e-10</td>\n",
       "    </tr>\n",
       "    <tr>\n",
       "      <th rowspan=\"3\" valign=\"top\">6</th>\n",
       "      <th>2</th>\n",
       "      <td>0.705882</td>\n",
       "      <td>4.410767e-02</td>\n",
       "    </tr>\n",
       "    <tr>\n",
       "      <th>10</th>\n",
       "      <td>0.039216</td>\n",
       "      <td>7.958686e+00</td>\n",
       "    </tr>\n",
       "    <tr>\n",
       "      <th>30</th>\n",
       "      <td>0.000000</td>\n",
       "      <td>3.978735e+01</td>\n",
       "    </tr>\n",
       "    <tr>\n",
       "      <th rowspan=\"3\" valign=\"top\">7</th>\n",
       "      <th>2</th>\n",
       "      <td>0.078431</td>\n",
       "      <td>1.197181e-02</td>\n",
       "    </tr>\n",
       "    <tr>\n",
       "      <th>10</th>\n",
       "      <td>0.607843</td>\n",
       "      <td>3.865747e-03</td>\n",
       "    </tr>\n",
       "    <tr>\n",
       "      <th>30</th>\n",
       "      <td>1.000000</td>\n",
       "      <td>6.825602e-10</td>\n",
       "    </tr>\n",
       "    <tr>\n",
       "      <th rowspan=\"3\" valign=\"top\">9</th>\n",
       "      <th>2</th>\n",
       "      <td>0.666667</td>\n",
       "      <td>1.899564e-01</td>\n",
       "    </tr>\n",
       "    <tr>\n",
       "      <th>10</th>\n",
       "      <td>0.000000</td>\n",
       "      <td>4.155417e+00</td>\n",
       "    </tr>\n",
       "    <tr>\n",
       "      <th>30</th>\n",
       "      <td>0.000000</td>\n",
       "      <td>2.479592e+01</td>\n",
       "    </tr>\n",
       "    <tr>\n",
       "      <th rowspan=\"3\" valign=\"top\">14</th>\n",
       "      <th>2</th>\n",
       "      <td>0.000000</td>\n",
       "      <td>3.098500e-01</td>\n",
       "    </tr>\n",
       "    <tr>\n",
       "      <th>10</th>\n",
       "      <td>0.000000</td>\n",
       "      <td>4.156407e-01</td>\n",
       "    </tr>\n",
       "    <tr>\n",
       "      <th>30</th>\n",
       "      <td>0.000000</td>\n",
       "      <td>3.845845e-01</td>\n",
       "    </tr>\n",
       "  </tbody>\n",
       "</table>\n",
       "</div>"
      ],
      "text/plain": [
       "                      success         error\n",
       "function dimensions                        \n",
       "1        2           1.000000  3.387199e-12\n",
       "         10          1.000000  1.794931e-10\n",
       "         30          1.000000  6.350226e-10\n",
       "2        2           1.000000  3.722687e-12\n",
       "         10          1.000000  1.768315e-10\n",
       "         30          1.000000  5.491565e-10\n",
       "6        2           0.705882  4.410767e-02\n",
       "         10          0.039216  7.958686e+00\n",
       "         30          0.000000  3.978735e+01\n",
       "7        2           0.078431  1.197181e-02\n",
       "         10          0.607843  3.865747e-03\n",
       "         30          1.000000  6.825602e-10\n",
       "9        2           0.666667  1.899564e-01\n",
       "         10          0.000000  4.155417e+00\n",
       "         30          0.000000  2.479592e+01\n",
       "14       2           0.000000  3.098500e-01\n",
       "         10          0.000000  4.156407e-01\n",
       "         30          0.000000  3.845845e-01"
      ]
     },
     "execution_count": 7,
     "metadata": {},
     "output_type": "execute_result"
    }
   ],
   "source": [
    "pd.DataFrame(results.groupby([\"function\", \"dimensions\"]).mean().loc[:, [\"success\", \"error\"]])"
   ]
  },
  {
   "cell_type": "code",
   "execution_count": null,
   "metadata": {},
   "outputs": [],
   "source": []
  },
  {
   "cell_type": "markdown",
   "metadata": {},
   "source": [
    "## Debug"
   ]
  },
  {
   "cell_type": "markdown",
   "metadata": {},
   "source": [
    "### Algo"
   ]
  },
  {
   "cell_type": "code",
   "execution_count": 8,
   "metadata": {
    "ExecuteTime": {
     "end_time": "2018-07-13T18:31:58.361399Z",
     "start_time": "2018-07-13T18:31:58.357485Z"
    }
   },
   "outputs": [],
   "source": [
    "prob = pg.problem(pg.cec2014(prob_id=1, dim=2))\n",
    "algo = ES(memory=True)\n",
    "pop = pg.population(prob=prob, size=POP_SIZE)"
   ]
  },
  {
   "cell_type": "code",
   "execution_count": 9,
   "metadata": {
    "ExecuteTime": {
     "end_time": "2018-07-13T18:32:01.771657Z",
     "start_time": "2018-07-13T18:32:01.765032Z"
    }
   },
   "outputs": [],
   "source": [
    "%lprun -f algo.evolve algo.evolve(pop)"
   ]
  },
  {
   "cell_type": "code",
   "execution_count": 11,
   "metadata": {
    "ExecuteTime": {
     "end_time": "2018-07-13T18:32:08.158681Z",
     "start_time": "2018-07-13T18:32:08.142390Z"
    }
   },
   "outputs": [
    {
     "name": "stdout",
     "output_type": "stream",
     "text": [
      "6787.639164846338\n",
      "6517.004330737569\n",
      "3911.1722927743176\n",
      "3817.269752746578\n",
      "12643.944862216365\n",
      "7281.807480712583\n",
      "5739.149739969055\n",
      "8012.224507580415\n",
      "3988.823754646437\n",
      "5662.45915878652\n"
     ]
    }
   ],
   "source": [
    "for _ in range(10):\n",
    "    #print(pop.champion_f[0])\n",
    "    print(pop.get_f()[:, 0].mean())\n",
    "    algo.evolve(pop)"
   ]
  },
  {
   "cell_type": "markdown",
   "metadata": {},
   "source": [
    "### Island"
   ]
  },
  {
   "cell_type": "code",
   "execution_count": 12,
   "metadata": {
    "ExecuteTime": {
     "end_time": "2018-07-13T18:32:10.906770Z",
     "start_time": "2018-07-13T18:32:10.784437Z"
    }
   },
   "outputs": [],
   "source": [
    "prob = pg.problem(pg.cec2014(prob_id=1, dim=2))\n",
    "algo = ES(memory=True)\n",
    "isl = pg.island(algo=algo, prob=prob, size=POP_SIZE)"
   ]
  },
  {
   "cell_type": "code",
   "execution_count": 13,
   "metadata": {
    "ExecuteTime": {
     "end_time": "2018-07-13T18:32:14.336823Z",
     "start_time": "2018-07-13T18:32:11.141228Z"
    }
   },
   "outputs": [
    {
     "name": "stdout",
     "output_type": "stream",
     "text": [
      "96308580.35220265\n",
      "2811.8345166483887\n"
     ]
    }
   ],
   "source": [
    "print(isl.get_population().champion_f[0])\n",
    "isl.evolve(10)\n",
    "isl.wait()\n",
    "print(isl.get_population().champion_f[0])"
   ]
  }
 ],
 "metadata": {
  "kernelspec": {
   "display_name": "Python 3",
   "language": "python",
   "name": "python3"
  },
  "language_info": {
   "codemirror_mode": {
    "name": "ipython",
    "version": 3
   },
   "file_extension": ".py",
   "mimetype": "text/x-python",
   "name": "python",
   "nbconvert_exporter": "python",
   "pygments_lexer": "ipython3",
   "version": "3.6.3"
  }
 },
 "nbformat": 4,
 "nbformat_minor": 2
}

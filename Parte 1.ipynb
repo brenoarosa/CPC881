{
 "cells": [
  {
   "cell_type": "code",
   "execution_count": 43,
   "metadata": {
    "ExecuteTime": {
     "end_time": "2018-07-06T03:24:43.645420Z",
     "start_time": "2018-07-06T03:24:43.643201Z"
    }
   },
   "outputs": [],
   "source": [
    "import pygmo as pg\n",
    "import numpy as np\n",
    "import pandas as pd"
   ]
  },
  {
   "cell_type": "code",
   "execution_count": 66,
   "metadata": {
    "ExecuteTime": {
     "end_time": "2018-07-06T03:29:06.508774Z",
     "start_time": "2018-07-06T03:29:06.504926Z"
    }
   },
   "outputs": [],
   "source": [
    "results = []\n",
    "\n",
    "funcs = [1, 2, 6, 7, 9, 14]\n",
    "dimensions = [2, 10, 30]\n",
    "POP_SIZE = 20\n",
    "N_RUNS = 51\n",
    "\n",
    "dimensions = [2, 10]"
   ]
  },
  {
   "cell_type": "code",
   "execution_count": 67,
   "metadata": {
    "ExecuteTime": {
     "end_time": "2018-07-06T03:30:05.088788Z",
     "start_time": "2018-07-06T03:29:06.785861Z"
    }
   },
   "outputs": [],
   "source": [
    "for nx in dimensions:\n",
    "    for func in funcs:\n",
    "        generations = nx * 10000 // POP_SIZE - 1\n",
    "        \n",
    "        prob = pg.problem(pg.cec2014(prob_id=func, dim=nx))\n",
    "        algo = pg.algorithm(pg.xnes(gen=generations, ftol=1e-9, xtol=1e-9))\n",
    "        archi = pg.archipelago(N_RUNS, algo=algo, prob=prob, pop_size=POP_SIZE)\n",
    "        archi.evolve(1)\n",
    "        archi.wait()\n",
    "        \n",
    "        champions = [isl.get_population().champion_f[0] for isl in archi]\n",
    "        evals = [isl.get_population().problem.get_fevals() for isl in archi]\n",
    "        for run, properties in enumerate(zip(champions, evals)):\n",
    "            result = {\n",
    "                         \"function\": func,\n",
    "                         \"dimensions\": nx,\n",
    "                         \"run\": run,\n",
    "                         \"champion_f\": properties[0],\n",
    "                         \"evals\": properties[1]\n",
    "                     }\n",
    "            \n",
    "            results.append(result)"
   ]
  },
  {
   "cell_type": "code",
   "execution_count": 68,
   "metadata": {
    "ExecuteTime": {
     "end_time": "2018-07-06T03:30:05.094217Z",
     "start_time": "2018-07-06T03:30:05.090514Z"
    }
   },
   "outputs": [],
   "source": [
    "results = pd.DataFrame(results, columns=[\"function\", \"dimensions\", \"run\", \"champion_f\", \"evals\"])"
   ]
  },
  {
   "cell_type": "code",
   "execution_count": 69,
   "metadata": {
    "ExecuteTime": {
     "end_time": "2018-07-06T03:30:05.123708Z",
     "start_time": "2018-07-06T03:30:05.095790Z"
    }
   },
   "outputs": [],
   "source": [
    "results[\"error\"] = results[\"champion_f\"] - (results[\"function\"] * 100)\n",
    "results[\"success\"] = results[\"error\"] < 1e-8"
   ]
  },
  {
   "cell_type": "code",
   "execution_count": 64,
   "metadata": {
    "ExecuteTime": {
     "end_time": "2018-07-06T03:28:47.120708Z",
     "start_time": "2018-07-06T03:28:47.108546Z"
    }
   },
   "outputs": [
    {
     "data": {
      "text/html": [
       "<div>\n",
       "<style scoped>\n",
       "    .dataframe tbody tr th:only-of-type {\n",
       "        vertical-align: middle;\n",
       "    }\n",
       "\n",
       "    .dataframe tbody tr th {\n",
       "        vertical-align: top;\n",
       "    }\n",
       "\n",
       "    .dataframe thead th {\n",
       "        text-align: right;\n",
       "    }\n",
       "</style>\n",
       "<table border=\"1\" class=\"dataframe\">\n",
       "  <thead>\n",
       "    <tr style=\"text-align: right;\">\n",
       "      <th></th>\n",
       "      <th>function</th>\n",
       "      <th>dimensions</th>\n",
       "      <th>run</th>\n",
       "      <th>champion_f</th>\n",
       "      <th>evals</th>\n",
       "      <th>error</th>\n",
       "      <th>success</th>\n",
       "    </tr>\n",
       "  </thead>\n",
       "  <tbody>\n",
       "    <tr>\n",
       "      <th>607</th>\n",
       "      <td>14</td>\n",
       "      <td>10</td>\n",
       "      <td>46</td>\n",
       "      <td>1400.499920</td>\n",
       "      <td>10880</td>\n",
       "      <td>0.499920</td>\n",
       "      <td>False</td>\n",
       "    </tr>\n",
       "    <tr>\n",
       "      <th>608</th>\n",
       "      <td>14</td>\n",
       "      <td>10</td>\n",
       "      <td>47</td>\n",
       "      <td>1400.499951</td>\n",
       "      <td>40440</td>\n",
       "      <td>0.499951</td>\n",
       "      <td>False</td>\n",
       "    </tr>\n",
       "    <tr>\n",
       "      <th>609</th>\n",
       "      <td>14</td>\n",
       "      <td>10</td>\n",
       "      <td>48</td>\n",
       "      <td>1400.376528</td>\n",
       "      <td>100000</td>\n",
       "      <td>0.376528</td>\n",
       "      <td>False</td>\n",
       "    </tr>\n",
       "    <tr>\n",
       "      <th>610</th>\n",
       "      <td>14</td>\n",
       "      <td>10</td>\n",
       "      <td>49</td>\n",
       "      <td>1400.215826</td>\n",
       "      <td>16320</td>\n",
       "      <td>0.215826</td>\n",
       "      <td>False</td>\n",
       "    </tr>\n",
       "    <tr>\n",
       "      <th>611</th>\n",
       "      <td>14</td>\n",
       "      <td>10</td>\n",
       "      <td>50</td>\n",
       "      <td>1400.499884</td>\n",
       "      <td>15420</td>\n",
       "      <td>0.499884</td>\n",
       "      <td>False</td>\n",
       "    </tr>\n",
       "  </tbody>\n",
       "</table>\n",
       "</div>"
      ],
      "text/plain": [
       "     function  dimensions  run   champion_f   evals     error  success\n",
       "607        14          10   46  1400.499920   10880  0.499920    False\n",
       "608        14          10   47  1400.499951   40440  0.499951    False\n",
       "609        14          10   48  1400.376528  100000  0.376528    False\n",
       "610        14          10   49  1400.215826   16320  0.215826    False\n",
       "611        14          10   50  1400.499884   15420  0.499884    False"
      ]
     },
     "execution_count": 64,
     "metadata": {},
     "output_type": "execute_result"
    }
   ],
   "source": [
    "results.tail(5)"
   ]
  },
  {
   "cell_type": "code",
   "execution_count": 62,
   "metadata": {
    "ExecuteTime": {
     "end_time": "2018-07-06T03:27:21.388873Z",
     "start_time": "2018-07-06T03:27:21.370337Z"
    }
   },
   "outputs": [
    {
     "data": {
      "text/html": [
       "<div>\n",
       "<style scoped>\n",
       "    .dataframe tbody tr th:only-of-type {\n",
       "        vertical-align: middle;\n",
       "    }\n",
       "\n",
       "    .dataframe tbody tr th {\n",
       "        vertical-align: top;\n",
       "    }\n",
       "\n",
       "    .dataframe thead th {\n",
       "        text-align: right;\n",
       "    }\n",
       "</style>\n",
       "<table border=\"1\" class=\"dataframe\">\n",
       "  <thead>\n",
       "    <tr style=\"text-align: right;\">\n",
       "      <th></th>\n",
       "      <th></th>\n",
       "      <th>success</th>\n",
       "    </tr>\n",
       "    <tr>\n",
       "      <th>function</th>\n",
       "      <th>dimensions</th>\n",
       "      <th></th>\n",
       "    </tr>\n",
       "  </thead>\n",
       "  <tbody>\n",
       "    <tr>\n",
       "      <th rowspan=\"2\" valign=\"top\">1</th>\n",
       "      <th>2</th>\n",
       "      <td>1.000000</td>\n",
       "    </tr>\n",
       "    <tr>\n",
       "      <th>10</th>\n",
       "      <td>1.000000</td>\n",
       "    </tr>\n",
       "    <tr>\n",
       "      <th rowspan=\"2\" valign=\"top\">2</th>\n",
       "      <th>2</th>\n",
       "      <td>1.000000</td>\n",
       "    </tr>\n",
       "    <tr>\n",
       "      <th>10</th>\n",
       "      <td>1.000000</td>\n",
       "    </tr>\n",
       "    <tr>\n",
       "      <th rowspan=\"2\" valign=\"top\">6</th>\n",
       "      <th>2</th>\n",
       "      <td>0.980392</td>\n",
       "    </tr>\n",
       "    <tr>\n",
       "      <th>10</th>\n",
       "      <td>0.568627</td>\n",
       "    </tr>\n",
       "    <tr>\n",
       "      <th rowspan=\"2\" valign=\"top\">7</th>\n",
       "      <th>2</th>\n",
       "      <td>0.058824</td>\n",
       "    </tr>\n",
       "    <tr>\n",
       "      <th>10</th>\n",
       "      <td>0.666667</td>\n",
       "    </tr>\n",
       "    <tr>\n",
       "      <th rowspan=\"2\" valign=\"top\">9</th>\n",
       "      <th>2</th>\n",
       "      <td>0.490196</td>\n",
       "    </tr>\n",
       "    <tr>\n",
       "      <th>10</th>\n",
       "      <td>0.000000</td>\n",
       "    </tr>\n",
       "    <tr>\n",
       "      <th rowspan=\"2\" valign=\"top\">14</th>\n",
       "      <th>2</th>\n",
       "      <td>0.000000</td>\n",
       "    </tr>\n",
       "    <tr>\n",
       "      <th>10</th>\n",
       "      <td>0.000000</td>\n",
       "    </tr>\n",
       "  </tbody>\n",
       "</table>\n",
       "</div>"
      ],
      "text/plain": [
       "                      success\n",
       "function dimensions          \n",
       "1        2           1.000000\n",
       "         10          1.000000\n",
       "2        2           1.000000\n",
       "         10          1.000000\n",
       "6        2           0.980392\n",
       "         10          0.568627\n",
       "7        2           0.058824\n",
       "         10          0.666667\n",
       "9        2           0.490196\n",
       "         10          0.000000\n",
       "14       2           0.000000\n",
       "         10          0.000000"
      ]
     },
     "execution_count": 62,
     "metadata": {},
     "output_type": "execute_result"
    }
   ],
   "source": [
    "pd.DataFrame(results.groupby([\"function\", \"dimensions\"]).mean().loc[:, \"success\"])"
   ]
  },
  {
   "cell_type": "code",
   "execution_count": null,
   "metadata": {},
   "outputs": [],
   "source": []
  }
 ],
 "metadata": {
  "kernelspec": {
   "display_name": "Python 3",
   "language": "python",
   "name": "python3"
  },
  "language_info": {
   "codemirror_mode": {
    "name": "ipython",
    "version": 3
   },
   "file_extension": ".py",
   "mimetype": "text/x-python",
   "name": "python",
   "nbconvert_exporter": "python",
   "pygments_lexer": "ipython3",
   "version": "3.6.3"
  }
 },
 "nbformat": 4,
 "nbformat_minor": 2
}
